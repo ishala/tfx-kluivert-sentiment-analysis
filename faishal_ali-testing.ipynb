{
 "cells": [
  {
   "cell_type": "markdown",
   "metadata": {},
   "source": [
    "# Melakukan Prediksi Sentimen"
   ]
  },
  {
   "cell_type": "code",
   "execution_count": 1,
   "metadata": {},
   "outputs": [
    {
     "name": "stdout",
     "output_type": "stream",
     "text": [
      "Negatif\n"
     ]
    }
   ],
   "source": [
    "import requests\n",
    "import tensorflow as tf\n",
    "import numpy as np\n",
    "\n",
    "def create_tf_example(text):\n",
    "    example = tf.train.Example(features=tf.train.Features(feature={\n",
    "        \"text\": tf.train.Feature(bytes_list=tf.train.BytesList(value=[text.encode('utf-8')]))\n",
    "    }))\n",
    "    return example.SerializeToString()\n",
    "\n",
    "LABELS = [\"Negatif\", \"Netral\", \"Positif\"] \n",
    "\n",
    "input_text = \"aku ngeraguin si kluivert ini, soalnya punya track record buruk\"\n",
    "\n",
    "serialized_example = create_tf_example(input_text)\n",
    "\n",
    "url = \"https://kluivert-sentiment-production.up.railway.app/v1/models/sentiment-analysis-model:predict\"\n",
    "\n",
    "data = {\n",
    "    \"signature_name\": \"serving_default\",\n",
    "    \"instances\": [\n",
    "        { \"examples\": serialized_example.decode(\"ISO-8859-1\") }\n",
    "    ]\n",
    "}\n",
    "\n",
    "response = requests.post(url, json=data)\n",
    "result = response.json()\n",
    "predictions = np.array(result['predictions'][0])\n",
    "predict_index = np.argmax(predictions)\n",
    "predicted_label = LABELS[predict_index]\n",
    "\n",
    "print(predicted_label)\n"
   ]
  }
 ],
 "metadata": {
  "kernelspec": {
   "display_name": "mlops-beam",
   "language": "python",
   "name": "python3"
  },
  "language_info": {
   "codemirror_mode": {
    "name": "ipython",
    "version": 3
   },
   "file_extension": ".py",
   "mimetype": "text/x-python",
   "name": "python",
   "nbconvert_exporter": "python",
   "pygments_lexer": "ipython3",
   "version": "3.9.15"
  }
 },
 "nbformat": 4,
 "nbformat_minor": 2
}
